{
 "cells": [
  {
   "cell_type": "markdown",
   "metadata": {},
   "source": [
    "# Introduction to NumPy\n",
    "\n",
    "\n",
    "#### 1. Import NumPy under the name np."
   ]
  },
  {
   "cell_type": "code",
   "execution_count": 1,
   "metadata": {},
   "outputs": [],
   "source": [
    "# your code here\n",
    "import numpy as np\n"
   ]
  },
  {
   "cell_type": "markdown",
   "metadata": {},
   "source": [
    "#### 2. Print your NumPy version."
   ]
  },
  {
   "cell_type": "code",
   "execution_count": 2,
   "metadata": {},
   "outputs": [
    {
     "data": {
      "text/plain": [
       "'1.18.1'"
      ]
     },
     "execution_count": 2,
     "metadata": {},
     "output_type": "execute_result"
    }
   ],
   "source": [
    "# your code here\n",
    "np.version.version\n",
    "\n",
    "#on bash we could use 'pip freeze | grep \"numpy\"'"
   ]
  },
  {
   "cell_type": "markdown",
   "metadata": {},
   "source": [
    "#### 3. Generate a 2x3x5 3-dimensional array with random values. Assign the array to variable *a*.\n",
    "**Challenge**: there are at least three easy ways that use numpy to generate random arrays. How many ways can you find?"
   ]
  },
  {
   "cell_type": "code",
   "execution_count": 3,
   "metadata": {},
   "outputs": [
    {
     "data": {
      "text/plain": [
       "array([[[0.84734482, 0.26522696, 0.9867215 , 0.34058939, 0.30956261],\n",
       "        [0.47650431, 0.27450882, 0.68716697, 0.11115365, 0.51209488],\n",
       "        [0.35590401, 0.22049382, 0.47754224, 0.72673383, 0.26562253]],\n",
       "\n",
       "       [[0.72295305, 0.49287176, 0.22288747, 0.22536722, 0.17857746],\n",
       "        [0.58085012, 0.63002741, 0.11399107, 0.82302695, 0.65087421],\n",
       "        [0.16540513, 0.84729872, 0.72264612, 0.67061732, 0.84977052]]])"
      ]
     },
     "execution_count": 3,
     "metadata": {},
     "output_type": "execute_result"
    }
   ],
   "source": [
    "# Method 1\n",
    "a = np.random.random((2,3,5))\n",
    "\n",
    "a"
   ]
  },
  {
   "cell_type": "code",
   "execution_count": 4,
   "metadata": {},
   "outputs": [
    {
     "data": {
      "text/plain": [
       "array([[[0.84734482, 0.26522696, 0.9867215 , 0.34058939, 0.30956261],\n",
       "        [0.47650431, 0.27450882, 0.68716697, 0.11115365, 0.51209488],\n",
       "        [0.35590401, 0.22049382, 0.47754224, 0.72673383, 0.26562253]],\n",
       "\n",
       "       [[0.72295305, 0.49287176, 0.22288747, 0.22536722, 0.17857746],\n",
       "        [0.58085012, 0.63002741, 0.11399107, 0.82302695, 0.65087421],\n",
       "        [0.16540513, 0.84729872, 0.72264612, 0.67061732, 0.84977052]]])"
      ]
     },
     "execution_count": 4,
     "metadata": {},
     "output_type": "execute_result"
    }
   ],
   "source": [
    "# Method 2\n",
    "a2 = np.empty((2,3,5))\n",
    "a2"
   ]
  },
  {
   "cell_type": "code",
   "execution_count": 5,
   "metadata": {},
   "outputs": [
    {
     "data": {
      "text/plain": [
       "array([0, 1, 1])"
      ]
     },
     "execution_count": 5,
     "metadata": {},
     "output_type": "execute_result"
    }
   ],
   "source": [
    "# Method 3\n",
    "a3 = np.random.randint((2,3,5))\n",
    "a3"
   ]
  },
  {
   "cell_type": "markdown",
   "metadata": {},
   "source": [
    "#### 4. Print *a*.\n"
   ]
  },
  {
   "cell_type": "code",
   "execution_count": 6,
   "metadata": {},
   "outputs": [
    {
     "data": {
      "text/plain": [
       "array([[[0.84734482, 0.26522696, 0.9867215 , 0.34058939, 0.30956261],\n",
       "        [0.47650431, 0.27450882, 0.68716697, 0.11115365, 0.51209488],\n",
       "        [0.35590401, 0.22049382, 0.47754224, 0.72673383, 0.26562253]],\n",
       "\n",
       "       [[0.72295305, 0.49287176, 0.22288747, 0.22536722, 0.17857746],\n",
       "        [0.58085012, 0.63002741, 0.11399107, 0.82302695, 0.65087421],\n",
       "        [0.16540513, 0.84729872, 0.72264612, 0.67061732, 0.84977052]]])"
      ]
     },
     "execution_count": 6,
     "metadata": {},
     "output_type": "execute_result"
    }
   ],
   "source": [
    "# your code here\n",
    "a"
   ]
  },
  {
   "cell_type": "markdown",
   "metadata": {},
   "source": [
    "#### 5. Create a 5x2x3 3-dimensional array with all values equaling 1. Assign the array to variable *b*."
   ]
  },
  {
   "cell_type": "code",
   "execution_count": 7,
   "metadata": {},
   "outputs": [],
   "source": [
    "# your code here\n",
    "b = np.ones((5,2,3))\n"
   ]
  },
  {
   "cell_type": "markdown",
   "metadata": {},
   "source": [
    "#### 6. Print *b*.\n"
   ]
  },
  {
   "cell_type": "code",
   "execution_count": 8,
   "metadata": {},
   "outputs": [
    {
     "data": {
      "text/plain": [
       "array([[[1., 1., 1.],\n",
       "        [1., 1., 1.]],\n",
       "\n",
       "       [[1., 1., 1.],\n",
       "        [1., 1., 1.]],\n",
       "\n",
       "       [[1., 1., 1.],\n",
       "        [1., 1., 1.]],\n",
       "\n",
       "       [[1., 1., 1.],\n",
       "        [1., 1., 1.]],\n",
       "\n",
       "       [[1., 1., 1.],\n",
       "        [1., 1., 1.]]])"
      ]
     },
     "execution_count": 8,
     "metadata": {},
     "output_type": "execute_result"
    }
   ],
   "source": [
    "# your code here\n",
    "b"
   ]
  },
  {
   "cell_type": "markdown",
   "metadata": {},
   "source": [
    "#### 7. Do *a* and *b* have the same size? How do you prove that in Python code?"
   ]
  },
  {
   "cell_type": "code",
   "execution_count": 9,
   "metadata": {},
   "outputs": [
    {
     "name": "stdout",
     "output_type": "stream",
     "text": [
      "False\n",
      "False\n",
      "False\n",
      "False\n",
      "False\n",
      "False\n",
      "False\n",
      "False\n",
      "False\n",
      "False\n"
     ]
    }
   ],
   "source": [
    "# your code here\n",
    "for x in a:\n",
    "    for m in b:\n",
    "        if len(a) == len(b):\n",
    "            print(True)\n",
    "        else:\n",
    "            print(False)\n",
    "            pass"
   ]
  },
  {
   "cell_type": "code",
   "execution_count": 10,
   "metadata": {},
   "outputs": [
    {
     "data": {
      "text/plain": [
       "False"
      ]
     },
     "execution_count": 10,
     "metadata": {},
     "output_type": "execute_result"
    }
   ],
   "source": [
    "len(a) == len(b)"
   ]
  },
  {
   "cell_type": "markdown",
   "metadata": {},
   "source": [
    "#### 8. Are you able to add *a* and *b*? Why or why not?\n"
   ]
  },
  {
   "cell_type": "code",
   "execution_count": 36,
   "metadata": {},
   "outputs": [],
   "source": [
    "# your answer here\n",
    "np.add(a,b) #<-- this is the method to do it but you can't add them together since they don't have the same number\n",
    "#of 'matrixes' a has 2 groups and b has 5, so python can't manage them.\n"
   ]
  },
  {
   "cell_type": "markdown",
   "metadata": {},
   "source": [
    "#### 9. Transpose *b* so that it has the same structure of *a* (i.e. become a 2x3x5 array). Assign the transposed array to variable *c*."
   ]
  },
  {
   "cell_type": "code",
   "execution_count": 11,
   "metadata": {},
   "outputs": [
    {
     "data": {
      "text/plain": [
       "array([[[1., 1., 1., 1., 1.],\n",
       "        [1., 1., 1., 1., 1.],\n",
       "        [1., 1., 1., 1., 1.]],\n",
       "\n",
       "       [[1., 1., 1., 1., 1.],\n",
       "        [1., 1., 1., 1., 1.],\n",
       "        [1., 1., 1., 1., 1.]]])"
      ]
     },
     "execution_count": 11,
     "metadata": {},
     "output_type": "execute_result"
    }
   ],
   "source": [
    "# your code here\n",
    "c = b.transpose(1,2,0)\n",
    "c"
   ]
  },
  {
   "cell_type": "markdown",
   "metadata": {},
   "source": [
    "#### 10. Try to add *a* and *c*. Now it should work. Assign the sum to variable *d*. But why does it work now?"
   ]
  },
  {
   "cell_type": "code",
   "execution_count": 12,
   "metadata": {},
   "outputs": [
    {
     "data": {
      "text/plain": [
       "array([[[1.84734482, 1.26522696, 1.9867215 , 1.34058939, 1.30956261],\n",
       "        [1.47650431, 1.27450882, 1.68716697, 1.11115365, 1.51209488],\n",
       "        [1.35590401, 1.22049382, 1.47754224, 1.72673383, 1.26562253]],\n",
       "\n",
       "       [[1.72295305, 1.49287176, 1.22288747, 1.22536722, 1.17857746],\n",
       "        [1.58085012, 1.63002741, 1.11399107, 1.82302695, 1.65087421],\n",
       "        [1.16540513, 1.84729872, 1.72264612, 1.67061732, 1.84977052]]])"
      ]
     },
     "execution_count": 12,
     "metadata": {},
     "output_type": "execute_result"
    }
   ],
   "source": [
    "# your code/answer here\n",
    "d = np.add(a,c)\n",
    "d\n",
    "\n",
    "#now its working because the matrixes have the same shape so numpy understand and can work with 'a' and 'b'."
   ]
  },
  {
   "cell_type": "markdown",
   "metadata": {},
   "source": [
    "#### 11. Print *a* and *d*. Notice the difference and relation of the two array in terms of the values? Explain."
   ]
  },
  {
   "cell_type": "code",
   "execution_count": 13,
   "metadata": {},
   "outputs": [
    {
     "name": "stdout",
     "output_type": "stream",
     "text": [
      "[[[0.84734482 0.26522696 0.9867215  0.34058939 0.30956261]\n",
      "  [0.47650431 0.27450882 0.68716697 0.11115365 0.51209488]\n",
      "  [0.35590401 0.22049382 0.47754224 0.72673383 0.26562253]]\n",
      "\n",
      " [[0.72295305 0.49287176 0.22288747 0.22536722 0.17857746]\n",
      "  [0.58085012 0.63002741 0.11399107 0.82302695 0.65087421]\n",
      "  [0.16540513 0.84729872 0.72264612 0.67061732 0.84977052]]]\n",
      "\n",
      "[[[1.84734482 1.26522696 1.9867215  1.34058939 1.30956261]\n",
      "  [1.47650431 1.27450882 1.68716697 1.11115365 1.51209488]\n",
      "  [1.35590401 1.22049382 1.47754224 1.72673383 1.26562253]]\n",
      "\n",
      " [[1.72295305 1.49287176 1.22288747 1.22536722 1.17857746]\n",
      "  [1.58085012 1.63002741 1.11399107 1.82302695 1.65087421]\n",
      "  [1.16540513 1.84729872 1.72264612 1.67061732 1.84977052]]]\n"
     ]
    }
   ],
   "source": [
    "# your code/answer here\n",
    "print(a)\n",
    "print()\n",
    "print(d)\n",
    "\n",
    "#'d' is adding the 1. from 'b' to 'a' it is making a sum() to the matrixes."
   ]
  },
  {
   "cell_type": "markdown",
   "metadata": {},
   "source": [
    "#### 12. Multiply *a* and *c*. Assign the result to *e*."
   ]
  },
  {
   "cell_type": "code",
   "execution_count": 14,
   "metadata": {},
   "outputs": [
    {
     "data": {
      "text/plain": [
       "array([[[0.84734482, 0.26522696, 0.9867215 , 0.34058939, 0.30956261],\n",
       "        [0.47650431, 0.27450882, 0.68716697, 0.11115365, 0.51209488],\n",
       "        [0.35590401, 0.22049382, 0.47754224, 0.72673383, 0.26562253]],\n",
       "\n",
       "       [[0.72295305, 0.49287176, 0.22288747, 0.22536722, 0.17857746],\n",
       "        [0.58085012, 0.63002741, 0.11399107, 0.82302695, 0.65087421],\n",
       "        [0.16540513, 0.84729872, 0.72264612, 0.67061732, 0.84977052]]])"
      ]
     },
     "execution_count": 14,
     "metadata": {},
     "output_type": "execute_result"
    }
   ],
   "source": [
    "# your code here\n",
    "e = a * c\n",
    "e\n",
    "#the output is the same as 'a' because 'c' all the values are ones."
   ]
  },
  {
   "cell_type": "markdown",
   "metadata": {},
   "source": [
    "#### 13. Does *e* equal to *a*? Why or why not?\n"
   ]
  },
  {
   "cell_type": "code",
   "execution_count": 15,
   "metadata": {},
   "outputs": [
    {
     "name": "stdout",
     "output_type": "stream",
     "text": [
      "[[[ True  True  True  True  True]\n",
      "  [ True  True  True  True  True]\n",
      "  [ True  True  True  True  True]]\n",
      "\n",
      " [[ True  True  True  True  True]\n",
      "  [ True  True  True  True  True]\n",
      "  [ True  True  True  True  True]]]\n"
     ]
    }
   ],
   "source": [
    "# your code/answer here\n",
    "answer = e == a\n",
    "print(answer)\n",
    "\n",
    "#as I said on the previous exercise, its the same because 'c' values are just ones."
   ]
  },
  {
   "cell_type": "markdown",
   "metadata": {},
   "source": [
    "#### 14. Identify the max, min, and mean values in *d*. Assign those values to variables *d_max*, *d_min* and *d_mean*."
   ]
  },
  {
   "cell_type": "code",
   "execution_count": null,
   "metadata": {},
   "outputs": [],
   "source": []
  },
  {
   "cell_type": "code",
   "execution_count": 16,
   "metadata": {},
   "outputs": [
    {
     "name": "stdout",
     "output_type": "stream",
     "text": [
      "1.9867215029713936\n",
      "1.111153648542055\n",
      "1.4918111632290316\n"
     ]
    }
   ],
   "source": [
    "# your code here\n",
    "d_max = np.max(d)\n",
    "d_min = np.min(d)\n",
    "d_mean = np.mean(d)\n",
    "\n",
    "print(d_max)\n",
    "print(d_min)\n",
    "print(d_mean)"
   ]
  },
  {
   "cell_type": "markdown",
   "metadata": {},
   "source": [
    "#### 15. Now we want to label the values in *d*. First create an empty array *f* with the same shape (i.e. 2x3x5) as *d* using `np.empty`.\n"
   ]
  },
  {
   "cell_type": "code",
   "execution_count": 17,
   "metadata": {},
   "outputs": [
    {
     "data": {
      "text/plain": [
       "array([[[0.84734482, 0.26522696, 0.9867215 , 0.34058939, 0.30956261],\n",
       "        [0.47650431, 0.27450882, 0.68716697, 0.11115365, 0.51209488],\n",
       "        [0.35590401, 0.22049382, 0.47754224, 0.72673383, 0.26562253]],\n",
       "\n",
       "       [[0.72295305, 0.49287176, 0.22288747, 0.22536722, 0.17857746],\n",
       "        [0.58085012, 0.63002741, 0.11399107, 0.82302695, 0.65087421],\n",
       "        [0.16540513, 0.84729872, 0.72264612, 0.67061732, 0.84977052]]])"
      ]
     },
     "execution_count": 17,
     "metadata": {},
     "output_type": "execute_result"
    }
   ],
   "source": [
    "# your code here\n",
    "f = np.empty((2,3,5))\n",
    "\n",
    "f"
   ]
  },
  {
   "cell_type": "markdown",
   "metadata": {},
   "source": [
    "#### 16. Populate the values in *f*. \n",
    "\n",
    "For each value in *d*, if it's larger than *d_min* but smaller than *d_mean*, assign 25 to the corresponding value in *f*. If a value in *d* is larger than *d_mean* but smaller than *d_max*, assign 75 to the corresponding value in *f*. If a value equals to *d_mean*, assign 50 to the corresponding value in *f*. Assign 0 to the corresponding value(s) in *f* for *d_min* in *d*. Assign 100 to the corresponding value(s) in *f* for *d_max* in *d*. In the end, f should have only the following values: 0, 25, 50, 75, and 100.\n",
    "\n",
    "**Note**: you don't have to use Numpy in this question."
   ]
  },
  {
   "cell_type": "code",
   "execution_count": 23,
   "metadata": {},
   "outputs": [],
   "source": [
    "# your code here\n",
    "\n",
    "\n",
    "\n",
    "\n",
    "\n",
    "#Here I used numpy because it was giving me an error \n",
    "#every time I tried to use a for loop but it was giving and error \n",
    "#because it was ambiguous,"
   ]
  },
  {
   "cell_type": "markdown",
   "metadata": {},
   "source": [
    "#### 17. Print *d* and *f*. Do you have your expected *f*?\n",
    "For instance, if your *d* is:\n",
    "```python\n",
    "[[[1.85836099, 1.67064465, 1.62576044, 1.40243961, 1.88454931],\n",
    "[1.75354326, 1.69403643, 1.36729252, 1.61415071, 1.12104981],\n",
    "[1.72201435, 1.1862918 , 1.87078449, 1.7726778 , 1.88180042]],\n",
    "[[1.44747908, 1.31673383, 1.02000951, 1.52218947, 1.97066381],\n",
    "[1.79129243, 1.74983003, 1.96028037, 1.85166831, 1.65450881],\n",
    "[1.18068344, 1.9587381 , 1.00656599, 1.93402165, 1.73514584]]]\n",
    "```\n",
    "Your *f* should be:\n",
    "```python\n",
    "[[[ 75.,  75.,  75.,  25.,  75.],\n",
    "[ 75.,  75.,  25.,  25.,  25.],\n",
    "[ 75.,  25.,  75.,  75.,  75.]],\n",
    "[[ 25.,  25.,  25.,  25., 100.],\n",
    "[ 75.,  75.,  75.,  75.,  75.],\n",
    "[ 25.,  75.,   0.,  75.,  75.]]]\n",
    "```"
   ]
  },
  {
   "cell_type": "code",
   "execution_count": 24,
   "metadata": {},
   "outputs": [
    {
     "name": "stdout",
     "output_type": "stream",
     "text": [
      "[[[ 75.  25. 100.  25.  25.]\n",
      "  [ 25.  25.  75.   0.  75.]\n",
      "  [ 25.  25.  25.  75.  25.]]\n",
      "\n",
      " [[ 75.  75.  25.  25.  25.]\n",
      "  [ 75.  75.  25.  75.  75.]\n",
      "  [ 25.  75.  75.  75.  75.]]]\n"
     ]
    }
   ],
   "source": [
    "# your code here\n",
    "print(f)"
   ]
  },
  {
   "cell_type": "markdown",
   "metadata": {},
   "source": [
    "#### 18. Bonus question: instead of using numbers (i.e. 0, 25, 50, 75, and 100), use string values  (\"A\", \"B\", \"C\", \"D\", and \"E\") to label the array elements. For the example above, the expected result is:\n",
    "\n",
    "```python\n",
    "[[[ 'D',  'D',  'D',  'B',  'D'],\n",
    "[ 'D',  'D',  'B',  'B',  'B'],\n",
    "[ 'D',  'B',  'D',  'D',  'D']],\n",
    "[[ 'B',  'B',  'B',  'B',  'E'],\n",
    "[ 'D',  'D',  'D',  'D',  'D'],\n",
    "[ 'B',  'D',   'A',  'D', 'D']]]\n",
    "```\n",
    "**Note**: you don't have to use Numpy in this question."
   ]
  },
  {
   "cell_type": "code",
   "execution_count": 34,
   "metadata": {},
   "outputs": [
    {
     "name": "stdout",
     "output_type": "stream",
     "text": [
      "<function converter at 0x7f242929caf0>\n"
     ]
    }
   ],
   "source": [
    "# your code here\n",
    "def converter(f):\n",
    "    for x in d:\n",
    "        if x  == d_min:\n",
    "            f.append('E')\n",
    "        elif x  == d_max:\n",
    "            f.append('A')\n",
    "        elif x > d_mean and d < d_max:\n",
    "            f.append('B')\n",
    "        elif d > d_min and d  < d_mean:\n",
    "            f.append('C')\n",
    "        elif d == d_mean:\n",
    "            f.append('D')\n",
    "        else:\n",
    "            pass\n",
    "print(converter)\n",
    "\n",
    "#I dont kno wwhy its not printing the function\n",
    "#It was giving me an error previously and it said to use a.all() \n",
    "#I used the a.all() but it didnt work either.\n"
   ]
  }
 ],
 "metadata": {
  "kernelspec": {
   "display_name": "Python 3",
   "language": "python",
   "name": "python3"
  },
  "language_info": {
   "codemirror_mode": {
    "name": "ipython",
    "version": 3
   },
   "file_extension": ".py",
   "mimetype": "text/x-python",
   "name": "python",
   "nbconvert_exporter": "python",
   "pygments_lexer": "ipython3",
   "version": "3.8.2"
  }
 },
 "nbformat": 4,
 "nbformat_minor": 2
}
