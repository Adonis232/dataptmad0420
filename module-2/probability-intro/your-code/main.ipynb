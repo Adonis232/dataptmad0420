{
 "cells": [
  {
   "cell_type": "markdown",
   "metadata": {},
   "source": [
    "# Introduction To Probability\n",
    "## Challenge 1\n",
    "\n",
    "A and B are events of a probability space with $(\\omega, \\sigma, P)$ such that $P(A) = 0.3$, $P(B) = 0.6$ and $P(A \\cap B) = 0.1$\n",
    "\n",
    "Which of the following statements are false?\n",
    "* $P(A \\cup B) = 0.6$\n",
    "* $P(A \\cap B^{C}) = 0.2$\n",
    "* $P(A \\cap (B \\cup B^{C})) = 0.4$\n",
    "* $P(A^{C} \\cap B^{C}) = 0.3$\n",
    "* $P((A \\cap B)^{C}) = 0.9$"
   ]
  },
  {
   "cell_type": "code",
   "execution_count": null,
   "metadata": {},
   "outputs": [],
   "source": [
    "\"\"\"\n",
    "your solution here\n",
    "\n",
    "A and b are mutually exclusive bc (𝐴∩𝐵)!= 0 \n",
    "P(A U B) = 0.8 by the addition rule, so first one is false.\n",
    "\n",
    "Second one I did :\n",
    "bc 'A' and 'B' are dependents\n",
    "P(𝐴∩𝐵c) = P(A)*P(A|B) + P(B) * P(B|A)= 0.166, so is false \n",
    "\n",
    "third:\n",
    "I think that it is impossible to have '𝐵∪𝐵𝐶' you will get\n",
    "0.9 summing their probabilities but the probability of no b and a b\n",
    "is impossible bc here we have A and B \n",
    "\n",
    "\n",
    "\n",
    "\n",
    "\"\"\""
   ]
  },
  {
   "cell_type": "markdown",
   "metadata": {},
   "source": [
    "## Challenge 2\n",
    "There is a box with 10 white balls, 12 red balls and 8 black balls. Calculate the probability of:\n",
    "* Taking a white ball out.\n",
    "* Taking a white ball out after taking a black ball out.\n",
    "* Taking a red ball out after taking a black and a red ball out.\n",
    "* Taking a red ball out after taking a black and a red ball out with reposition.\n",
    "\n",
    "**Hint**: Reposition means putting back the ball into the box after taking it out."
   ]
  },
  {
   "cell_type": "code",
   "execution_count": 7,
   "metadata": {},
   "outputs": [
    {
     "name": "stdout",
     "output_type": "stream",
     "text": [
      "Theres a 0.3333333333333333 chance of taking a white ball\n",
      "\n",
      "Theres a 0.09195402298850575 chance of taking a white ball after taking a black ball\n",
      "\n",
      "Thres a 0.04334975369458128 chance of taking a red ball after a balck and red ball\n",
      "\n",
      "Theres a 0.04266666666666667 chance of taking a red ball after a black and red with reposition\n"
     ]
    }
   ],
   "source": [
    "\"\"\"\n",
    "your solution here\n",
    "\n",
    "1- P(W) = 10/30 = 1/3 = 0,33% of taking a white ball\n",
    "2- P(W ∩ B) = P(W)*P(B|W)/ P(B) = 0.34*0.07/0.23 = 0,103\n",
    "3- P(B|R) = P(B)*P(R|B)/P(R) = 0.051\n",
    "4- P(R|B|R) = 0,027 \n",
    "\n",
    "On number 4 I took the same probability to do the calculations\n",
    "where I have doubts its on the other ones, bc I dont know if to do the calcuations\n",
    "you should take one ball of each color every time you do make an step.\n",
    "Im not sure on that. \n",
    "\n",
    "\"\"\"\n",
    "\n",
    "## correction wrinting it in code format\n",
    "\n",
    "w, r, b = 10, 12, 8 #number of balls\n",
    "\n",
    "#white out\n",
    "\n",
    "P_A= w/sum([w,r,b])\n",
    "print('Theres a {} chance of taking a white ball'.format(P_A))\n",
    "\n",
    "#white after a black ball\n",
    "print()\n",
    "event_1 = b/sum([w, r, b])\n",
    "event_2 = (w/(sum([w, r, b])-1))*event_1\n",
    "print('Theres a {} chance of taking a white ball after taking a black ball'.format(event_2))\n",
    "\n",
    "#red after black and red\n",
    "print()\n",
    "\n",
    "e_2 = r/(sum([w,r,b])-1)*event_1\n",
    "event_3 = (r-1)/(sum([w,r,b])-2)*e_2\n",
    "print('Thres a {} chance of taking a red ball after a balck and red ball'.format(event_3))\n",
    "\n",
    "## red after black ball and red with reposition\n",
    "print()\n",
    "\n",
    "ev_2 = r/(sum([w,r,b]))*event_1\n",
    "ev_3 = r/(sum([w,r,b]))*ev_2\n",
    "\n",
    "print('Theres a {} chance of taking a red ball after a black and red with reposition'.format(ev_3))"
   ]
  },
  {
   "cell_type": "markdown",
   "metadata": {},
   "source": [
    "## Challenge 3\n",
    "\n",
    "You are planning to go on a picnic today but the morning is cloudy. You hate rain so you don't know whether to go out or stay home! To help you make a decision, you gather the following data about rainy days:\n",
    "\n",
    "* 50% of all rainy days start off cloudy!\n",
    "* Cloudy mornings are common. About 40% of days start cloudy. \n",
    "* This month is usually dry so only 3 of 30 days (10%) tend to be rainy. \n",
    "\n",
    "What is the chance of rain during the day?"
   ]
  },
  {
   "cell_type": "code",
   "execution_count": null,
   "metadata": {},
   "outputs": [],
   "source": [
    "\"\"\"\n",
    "your solution here\n",
    "P(CLOUD|RAIN)= 0.5\n",
    "P(CLOUD)=0.4\n",
    "P(RAIN)=0.1\n",
    "P(RAIN|CLOUD)= P(RAIN)*P(CLOUD|RAIN) / P(CLOUD) = 0,125\n",
    "\n",
    "\n",
    "\n",
    "\"\"\""
   ]
  },
  {
   "cell_type": "markdown",
   "metadata": {},
   "source": [
    "## Challenge 4\n",
    "\n",
    "One thousand people were asked through a telephone survey whether they thought more street lighting is needed at night or not.\n",
    "\n",
    "Out of the 480 men that answered the survey, 324 said yes and 156 said no. On the other hand, out of the 520 women that answered, 351 said yes and 169 said no. \n",
    "\n",
    "We wonder if men and women have a different opinions about the street lighting matter. Is gender relevant or irrelevant to the question?\n",
    "\n",
    "Consider the following events:\n",
    "- The answer is yes, so the person that answered thinks that more street lighting is needed.\n",
    "- The person who answered is a man.\n",
    "\n",
    "We want to know if these events are independent, that is, if the fact of wanting more light depends on whether one is male or female. Are these events independent or not?\n",
    "\n",
    "**Hint**: To clearly compare the answers by gender, it is best to place the data in a table."
   ]
  },
  {
   "cell_type": "code",
   "execution_count": 23,
   "metadata": {},
   "outputs": [
    {
     "data": {
      "text/plain": [
       "67.5"
      ]
     },
     "execution_count": 23,
     "metadata": {},
     "output_type": "execute_result"
    }
   ],
   "source": [
    "# your code here\n",
    "\n",
    "import pandas as pd\n",
    "import numpy as np\n",
    "\n",
    "\n",
    "men_rat = {'men yes:':[324/480],'men no:': [156/480]} \n",
    "women_rat = {'woman yes:' : [351/520], 'women no ' : [169/520]}\n",
    "\n",
    "df = pd.DataFrame(men_rat,women_rat)\n",
    "\n",
    "\n",
    "#correction\n",
    "\n",
    "#building table\n",
    "data = [324, 156, 351, 169]\n",
    "ppl = ['men', 'men', 'women', 'women']\n",
    "x = ['yes', 'no', 'yes', 'no']\n",
    "\n",
    "df = pd.DataFrame(list(zip(data, ppl, x)), columns=['total', 'gender', 'answer'])\n",
    "df\n",
    "table = pd.pivot_table(df, columns = 'gender', index='answer', aggfunc=np.sum)\n",
    "table\n",
    "\n",
    "\n",
    "men = sum(df[(df['gender'] == 'men')]['total'].tolist())\n",
    "women = sum(df[(df['gender'] == 'women')]['total'].tolist())\n",
    "\n",
    "y_m = sum(df[(df['gender'] == 'men') & (df['answer'] == 'yes')]['total'].tolist())\n",
    "y_w = sum(df[(df['gender'] == 'women') & (df['answer'] == 'yes')]['total'].tolist())\n",
    "\n",
    "\n",
    "percent_men = y_m*100/men\n",
    "percent_women = y_w*100/women\n",
    "\n",
    "total_percent = (percent_men + percent_women)*100 /(percent_men + percent_women)\n",
    "percent_men\n",
    "percent_women"
   ]
  },
  {
   "cell_type": "code",
   "execution_count": 16,
   "metadata": {},
   "outputs": [
    {
     "data": {
      "text/html": [
       "<div>\n",
       "<style scoped>\n",
       "    .dataframe tbody tr th:only-of-type {\n",
       "        vertical-align: middle;\n",
       "    }\n",
       "\n",
       "    .dataframe tbody tr th {\n",
       "        vertical-align: top;\n",
       "    }\n",
       "\n",
       "    .dataframe thead tr th {\n",
       "        text-align: left;\n",
       "    }\n",
       "\n",
       "    .dataframe thead tr:last-of-type th {\n",
       "        text-align: right;\n",
       "    }\n",
       "</style>\n",
       "<table border=\"1\" class=\"dataframe\">\n",
       "  <thead>\n",
       "    <tr>\n",
       "      <th></th>\n",
       "      <th colspan=\"2\" halign=\"left\">total</th>\n",
       "    </tr>\n",
       "    <tr>\n",
       "      <th>gender</th>\n",
       "      <th>men</th>\n",
       "      <th>women</th>\n",
       "    </tr>\n",
       "    <tr>\n",
       "      <th>answer</th>\n",
       "      <th></th>\n",
       "      <th></th>\n",
       "    </tr>\n",
       "  </thead>\n",
       "  <tbody>\n",
       "    <tr>\n",
       "      <th>no</th>\n",
       "      <td>156</td>\n",
       "      <td>169</td>\n",
       "    </tr>\n",
       "    <tr>\n",
       "      <th>yes</th>\n",
       "      <td>324</td>\n",
       "      <td>351</td>\n",
       "    </tr>\n",
       "  </tbody>\n",
       "</table>\n",
       "</div>"
      ],
      "text/plain": [
       "       total      \n",
       "gender   men women\n",
       "answer            \n",
       "no       156   169\n",
       "yes      324   351"
      ]
     },
     "execution_count": 16,
     "metadata": {},
     "output_type": "execute_result"
    }
   ],
   "source": [
    "\"\"\"\n",
    "your solution here\n",
    "\n",
    "There is no difference between our samples so the \n",
    "question is irrelevant.\n",
    "\"\"\"\n"
   ]
  }
 ],
 "metadata": {
  "kernelspec": {
   "display_name": "Python 3",
   "language": "python",
   "name": "python3"
  },
  "language_info": {
   "codemirror_mode": {
    "name": "ipython",
    "version": 3
   },
   "file_extension": ".py",
   "mimetype": "text/x-python",
   "name": "python",
   "nbconvert_exporter": "python",
   "pygments_lexer": "ipython3",
   "version": "3.7.7"
  }
 },
 "nbformat": 4,
 "nbformat_minor": 2
}
